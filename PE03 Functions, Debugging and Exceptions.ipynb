{
  "nbformat": 4,
  "nbformat_minor": 0,
  "metadata": {
    "colab": {
      "name": "CS-PE03.ipynb",
      "provenance": []
    },
    "kernelspec": {
      "name": "python3",
      "display_name": "Python 3"
    },
    "language_info": {
      "name": "python"
    }
  },
  "cells": [
    {
      "cell_type": "code",
      "metadata": {
        "colab": {
          "base_uri": "https://localhost:8080/"
        },
        "id": "t7-OJwFB_LFt",
        "outputId": "6e38952d-dcbf-4c33-f9f5-316bccea33d3"
      },
      "source": [
        "class Implement:\n",
        "      def strStr(self, haystack, needle): #function finds the first occurrence of the substring needle in the string haystack\n",
        "        \"\"\"\n",
        "        Return the index of the first occurrence of needle in haystack\n",
        "        :param haystack:str\n",
        "        :param needle:str\n",
        "        :return:int\n",
        "        \"\"\"\n",
        "        if needle == \"\":\n",
        "            return 0\n",
        "        index = haystack.find(needle)\n",
        "        return index\n",
        "\n",
        "\n",
        "haystack = \"aaaaa\"\n",
        "needle = \"bba\"\n",
        "index = Implement().strStr(haystack, needle)\n",
        "print(index)"
      ],
      "execution_count": 27,
      "outputs": [
        {
          "output_type": "stream",
          "text": [
            "-1\n"
          ],
          "name": "stdout"
        }
      ]
    },
    {
      "cell_type": "code",
      "metadata": {
        "colab": {
          "base_uri": "https://localhost:8080/"
        },
        "id": "1EYLb57ZEGHh",
        "outputId": "0dd4c121-b854-49bf-b140-6c8aa89bf6e9"
      },
      "source": [
        "def is_anagram(str1, str2):\n",
        "    list_str1 = list(str1)\n",
        "    list_str1.sort()\n",
        "    list_str2 = list(str2)\n",
        "    list_str2.sort()\n",
        "\n",
        "    return (list_str1 == list_str2)\n",
        "\n",
        "print(is_anagram('anagram','nagaram'))\n",
        "print(is_anagram('cat','rat'))"
      ],
      "execution_count": 36,
      "outputs": [
        {
          "output_type": "stream",
          "text": [
            "True\n",
            "False\n"
          ],
          "name": "stdout"
        }
      ]
    },
    {
      "cell_type": "code",
      "metadata": {
        "colab": {
          "base_uri": "https://localhost:8080/"
        },
        "id": "omqF-cL3Ic_0",
        "outputId": "3f0168a7-7c9f-4be1-c074-cfcc4dedecd1"
      },
      "source": [
        "def longest_Common_Prefix(str1):\n",
        "    \n",
        "    if not str1:\n",
        "        return \"\"\n",
        "\n",
        "    short_str = min(str1,key=len)\n",
        "\n",
        "    for i, char in enumerate(short_str):\n",
        "        for other in str1:\n",
        "            if other[i] != char:\n",
        "                return short_str[:i]\n",
        "\n",
        "    return short_str \n",
        "\n",
        "\n",
        "print(longest_Common_Prefix([\"dog\",\"racecar\",\"car\"]))\n",
        "print(longest_Common_Prefix([\"flower\",\"flow\",\"flight\"]))\n"
      ],
      "execution_count": 54,
      "outputs": [
        {
          "output_type": "stream",
          "text": [
            "\n",
            "fl\n"
          ],
          "name": "stdout"
        }
      ]
    },
    {
      "cell_type": "code",
      "metadata": {
        "colab": {
          "base_uri": "https://localhost:8080/"
        },
        "id": "1lhRSCbVMNOn",
        "outputId": "8b07af41-f0a1-482a-a615-9ef9352ec1d1"
      },
      "source": [
        "print(\"Please enter two numbers and this program will add them together!\")\n",
        "try:\n",
        "    num_1 = int(input(\"Enter a first number?\"))\n",
        "    num_2 = int(input(\"Enter a second number?\"))\n",
        "    answer = num_1 + num_2\n",
        "    print(str(num_1) + \" + \" + str(num_2) + \" = \" + str(answer))\n",
        "except ValueError:\n",
        "    print(\"No valid integer! Please make sure you enter a number next time.\")"
      ],
      "execution_count": 98,
      "outputs": [
        {
          "output_type": "stream",
          "text": [
            "Please enter two numbers and this program will add them together!\n",
            "Enter a first number?k\n",
            "No valid integer! Please make sure you enter a number next time.\n"
          ],
          "name": "stdout"
        }
      ]
    }
  ]
}