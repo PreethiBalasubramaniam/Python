{
  "nbformat": 4,
  "nbformat_minor": 0,
  "metadata": {
    "colab": {
      "name": "Cs-Pe04.ipynb",
      "provenance": []
    },
    "kernelspec": {
      "name": "python3",
      "display_name": "Python 3"
    },
    "language_info": {
      "name": "python"
    }
  },
  "cells": [
    {
      "cell_type": "code",
      "metadata": {
        "colab": {
          "base_uri": "https://localhost:8080/"
        },
        "id": "deJtHtnk-7tt",
        "outputId": "ea623f8d-2f8a-40ce-caa3-1eb981659294"
      },
      "source": [
        "class Restaurant():\n",
        "    #A class representing a restaurant\n",
        "\n",
        "    def __init__(self, name, cuisine_type):\n",
        "        #Initialize the restaurant\n",
        "        self.name = name.title()\n",
        "        self.cuisine_type = cuisine_type\n",
        "\n",
        "    def describe_restaurant(self):\n",
        "        #Display a summary of the restaurant\n",
        "        msg = self.name + \" serves wonderful \" + self.cuisine_type + \".\"\n",
        "        print(\"\\n\" + msg)\n",
        "\n",
        "    def open_restaurant(self):\n",
        "        #Display a message that the restaurant is open\n",
        "        msg = self.name + \" is open. Come on in!\"\n",
        "        print(\"\\n\" + msg)\n",
        "\n",
        "restaurant = Restaurant(\"Indian GiRl's\", 'Indo-Fusion')\n",
        "print(restaurant.name)\n",
        "print(restaurant.cuisine_type)\n",
        "\n",
        "restaurant.describe_restaurant()\n",
        "restaurant.open_restaurant()"
      ],
      "execution_count": null,
      "outputs": [
        {
          "output_type": "stream",
          "text": [
            "Indian Girl'S\n",
            "Indo-Fusion\n",
            "\n",
            "Indian Girl'S serves wonderful Indo-Fusion.\n",
            "\n",
            "Indian Girl'S is open. Come on in!\n"
          ],
          "name": "stdout"
        }
      ]
    },
    {
      "cell_type": "code",
      "metadata": {
        "colab": {
          "base_uri": "https://localhost:8080/"
        },
        "id": "Wn6ZGv74ALQ2",
        "outputId": "2189ec80-84df-428a-a08f-2a95ccc703a5"
      },
      "source": [
        "class Restaurant():\n",
        "    #A class representing a restaurant\n",
        "\n",
        "    def __init__(self, name, cuisine_type):\n",
        "        #Initialize the restaurant\n",
        "        self.name = name.title()\n",
        "        self.cuisine_type = cuisine_type\n",
        "\n",
        "    def describe_restaurant(self):\n",
        "        #Display a summary of the restaurant\n",
        "        msg = self.name + \" with classy touch \" + self.cuisine_type + \".\"\n",
        "        print(\"\\n\" + msg)\n",
        "\n",
        "    def open_restaurant(self):\n",
        "        #Display a message that the restaurant is open\n",
        "        msg = self.name + \" is open. Come on in!\"\n",
        "        print(\"\\n\" + msg)\n",
        "\n",
        "Indian_girl = Restaurant(\"Indian GiRl's\", 'Indo-Fusion')\n",
        "Indian_girl.describe_restaurant()\n",
        "\n",
        "Coconut = Restaurant(\"Coconut curry\", 'Pompreft Fish')\n",
        "Coconut.describe_restaurant()\n",
        "\n",
        "mango= Restaurant('mango malai', 'Briyani')\n",
        "mango.describe_restaurant()"
      ],
      "execution_count": null,
      "outputs": [
        {
          "output_type": "stream",
          "text": [
            "\n",
            "Indian Girl'S with classy touch Indo-Fusion.\n",
            "\n",
            "Coconut Curry with classy touch Pompreft Fish.\n",
            "\n",
            "Mango Malai with classy touch Briyani.\n"
          ],
          "name": "stdout"
        }
      ]
    },
    {
      "cell_type": "code",
      "metadata": {
        "colab": {
          "base_uri": "https://localhost:8080/"
        },
        "id": "y2drpSr0BTWp",
        "outputId": "6076934f-6b07-4124-8ab1-b36fff354e88"
      },
      "source": [
        "class User():\n",
        "    #Represent a simple user profile\n",
        "\n",
        "    def __init__(self, first_name, last_name, username, email, location):\n",
        "        #Initialize the user\n",
        "        self.first_name = first_name.title()\n",
        "        self.last_name = last_name.title()\n",
        "        self.username = username\n",
        "        self.email = email\n",
        "        self.location = location.title()\n",
        "\n",
        "    def describe_user(self):\n",
        "        #Display a summary of the user's information\n",
        "        print(\"\\n\" + self.first_name + \" \" + self.last_name)\n",
        "        print(\"  Username: \" + self.username)\n",
        "        print(\"  Email: \" + self.email)\n",
        "        print(\"  Location: \" + self.location)\n",
        "\n",
        "    def greet_user(self):\n",
        "        #Display a personalized greeting to the user\n",
        "        print(\"\\nWelcome back, \" + self.username + \"!\")\n",
        "\n",
        "preethi = User('preethi', 'balu', 'p_balu', 'p_balu@example.com', 'seattle')\n",
        "preethi.describe_user()\n",
        "preethi.greet_user()\n",
        "\n",
        "dinesh = User('dinesh', 'babu', 'dineshbabu', 'db@example.com', 'seattle')\n",
        "dinesh.describe_user()\n",
        "dinesh.greet_user()"
      ],
      "execution_count": null,
      "outputs": [
        {
          "output_type": "stream",
          "text": [
            "\n",
            "Preethi Balu\n",
            "  Username: p_balu\n",
            "  Email: p_balu@example.com\n",
            "  Location: Seattle\n",
            "\n",
            "Welcome back, p_balu!\n",
            "\n",
            "Dinesh Babu\n",
            "  Username: dineshbabu\n",
            "  Email: db@example.com\n",
            "  Location: Seattle\n",
            "\n",
            "Welcome back, dineshbabu!\n"
          ],
          "name": "stdout"
        }
      ]
    },
    {
      "cell_type": "code",
      "metadata": {
        "colab": {
          "base_uri": "https://localhost:8080/"
        },
        "id": "6Z86Hh5yDlgK",
        "outputId": "6f88698b-4536-47bc-e1cd-3b757442bf94"
      },
      "source": [
        "\n",
        "# Python Program to depict multiple inheritance\n",
        "# when every class defines the same method\n",
        "  \n",
        "class Class1:\n",
        "    def m(self):\n",
        "        print(\"DS-620\") \n",
        "        \n",
        "class Class2(Class1):\n",
        "    def m(self):\n",
        "        print(\"CS-560\")\n",
        "  \n",
        "class Class3(Class1):\n",
        "    def m(self):\n",
        "        print(\"Random-class\")  \n",
        "           \n",
        "  \n",
        "obj = Class2()\n",
        "obj.m()\n",
        "  \n",
        "\n",
        "Class3.m(obj)\n",
        "Class1.m(obj)"
      ],
      "execution_count": null,
      "outputs": [
        {
          "output_type": "stream",
          "text": [
            "CS-560\n",
            "Random-class\n",
            "DS-620\n"
          ],
          "name": "stdout"
        }
      ]
    },
    {
      "cell_type": "code",
      "metadata": {
        "colab": {
          "base_uri": "https://localhost:8080/"
        },
        "id": "JsDupRpXEvKx",
        "outputId": "aac219f1-d923-407c-ab42-bf1b8104dae2"
      },
      "source": [
        "fname = input(\"Enter file name: \")\n",
        " \n",
        "num_words = 0\n",
        " \n",
        "with open(fname, 'r') as f:\n",
        "    for line in f:\n",
        "        words = line.split()\n",
        "        num_words += len(words)\n",
        "print(\"Number of words:\")\n",
        "print(num_words)"
      ],
      "execution_count": 49,
      "outputs": [
        {
          "output_type": "stream",
          "text": [
            "Enter file name: pe04.txt\n",
            "Number of words:\n",
            "2\n"
          ],
          "name": "stdout"
        }
      ]
    },
    {
      "cell_type": "code",
      "metadata": {
        "colab": {
          "base_uri": "https://localhost:8080/"
        },
        "id": "_Jc-P6S9K8ix",
        "outputId": "6a8351b0-353d-4f27-d219-aeffa5603efc"
      },
      "source": [
        "filename = 'guest_book.txt'\n",
        "\n",
        "print(\"Enter 'quit' when you are finished.\")\n",
        "while True:\n",
        "    name = input(\"\\nWhat's your name? \")\n",
        "    if name == 'quit':\n",
        "        break\n",
        "    else:\n",
        "        with open(filename, 'a') as f:\n",
        "            f.write(name + \"\\n\")\n",
        "        print(\"Hi \" + name + \", you've been added to the guest book.\")"
      ],
      "execution_count": null,
      "outputs": [
        {
          "output_type": "stream",
          "text": [
            "Enter 'quit' when you are finished.\n",
            "\n",
            "What's your name? hello\n",
            "Hi hello, you've been added to the guest book.\n",
            "\n",
            "What's your name? world\n",
            "Hi world, you've been added to the guest book.\n",
            "\n",
            "What's your name? prople\n",
            "Hi prople, you've been added to the guest book.\n"
          ],
          "name": "stdout"
        }
      ]
    },
    {
      "cell_type": "code",
      "metadata": {
        "id": "wGzZVa7rJPLJ",
        "colab": {
          "base_uri": "https://localhost:8080/"
        },
        "outputId": "fa5c32ad-9783-4d01-ece2-0b60995d21f2"
      },
      "source": [
        "filenames = ['cats.txt', 'dogs.txt']\n",
        "\n",
        "for filename in filenames:\n",
        "    print(\"\\nReading file: \" + filename)\n",
        "    try:\n",
        "        with open(filename) as f:\n",
        "            contents = f.read()\n",
        "            print(contents)\n",
        "    except FileNotFoundError:\n",
        "        print(\"  Sorry, I can't find that file.\")"
      ],
      "execution_count": 47,
      "outputs": [
        {
          "output_type": "stream",
          "text": [
            "\n",
            "Reading file: cats.txt\n",
            "meow\n",
            "timmy\n",
            "jimmy\n",
            "\n",
            "Reading file: dogs.txt\n",
            "harry\n",
            "stew\n",
            "jack\n"
          ],
          "name": "stdout"
        }
      ]
    }
  ]
}