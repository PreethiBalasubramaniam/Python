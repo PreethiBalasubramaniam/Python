{
 "metadata": {
  "language_info": {
   "codemirror_mode": {
    "name": "ipython",
    "version": 3
   },
   "file_extension": ".py",
   "mimetype": "text/x-python",
   "name": "python",
   "nbconvert_exporter": "python",
   "pygments_lexer": "ipython3",
   "version": "3.9.0-final"
  },
  "orig_nbformat": 2,
  "kernelspec": {
   "name": "python390jvsc74a57bd0686f29081395ce0c4fb4972c9eb53e6e9f9f2ed62faed3dedbaa3b034bd717ae",
   "display_name": "Python 3.9.0 64-bit"
  },
  "metadata": {
   "interpreter": {
    "hash": "686f29081395ce0c4fb4972c9eb53e6e9f9f2ed62faed3dedbaa3b034bd717ae"
   }
  }
 },
 "nbformat": 4,
 "nbformat_minor": 2,
 "cells": [
  {
   "cell_type": "code",
   "execution_count": 19,
   "metadata": {},
   "outputs": [],
   "source": [
    "class Solution:\n",
    "    def removeDuplicates(self, nums: int) -> int:\n",
    "        if len(nums) == 0: return 0\n",
    "        if len(nums) == 1: return 1\n",
    "        \n",
    "        # nums = [0,0,1,1,1,2,2,3,3,4]\n",
    "        j = 1 # slover pointer, only move when meet unique number\n",
    "        for i in range(1, len(nums)): # faster pointer, i will iterate over all element in nums\n",
    "            if nums[i] != nums[i-1]: # when nums[i] is a unique number, assign it to nums[j]\n",
    "                nums[j] = nums[i]\n",
    "                j += 1\n",
    "        # after for loop, i = 9, j = 5, nums = [0, 1, 2, 3, 4, 2, 2, 3, 3, 4]\n",
    "        # we can see the nums[:5] is the unique number list we want \n",
    "        return j\n"
   ]
  },
  {
   "cell_type": "code",
   "execution_count": 45,
   "metadata": {},
   "outputs": [
    {
     "output_type": "stream",
     "name": "stdout",
     "text": [
      "[('256', 5), ('452', 10), ('135', 15), ('100', 20)]\n"
     ]
    }
   ],
   "source": [
    "# Python program to sort a list of\n",
    "# tuples by the second Item using sort() \n",
    "  \n",
    "# Function to sort hte list by second item of tuple\n",
    "def Sort_Tuple(tup): \n",
    "  \n",
    "    # reverse = None (Sorts in Ascending order) \n",
    "    # key is set to sort using second element of \n",
    "    # sublist lambda has been used \n",
    "    tup.sort(key = lambda x: x[1]) \n",
    "    return tup \n",
    "  \n",
    "# Tuple Code \n",
    "tup = [('452', 10), ('256', 5), ('100', 20), ('135', 15)]\n",
    "  \n",
    "# printing the sorted list of tuples\n",
    "print(Sort_Tuple(tup)) "
   ]
  },
  {
   "cell_type": "code",
   "execution_count": 78,
   "metadata": {},
   "outputs": [
    {
     "output_type": "stream",
     "name": "stdout",
     "text": [
      "{'S002', 'S009', 'S001', 'S007', 'S005'}\n"
     ]
    }
   ],
   "source": [
    "\n",
    "sample_dict = [{\"V\":\"S001\"}, {\"V\": \"S002\"}, {\"VI\": \"S001\"}, {\"VI\": \"S005\"}, {\"VII\":\"S005\"}, {\"V\":\"S009\"},{\"VIII\":\"S007\"}]\n",
    "unique_values = []\n",
    "\n",
    "for item in sample_dict:\n",
    "    for v in item.values():\n",
    "        if v not in unique_values:\n",
    "            unique_values.append(v)\n",
    "\n",
    "print(set(unique_values))\n"
   ]
  },
  {
   "cell_type": "code",
   "execution_count": 133,
   "metadata": {},
   "outputs": [],
   "source": [
    "class solution:\n",
    "    def checkIfExist(self,arr: int) -> bool:\n",
    "        result = False\n",
    "        D = {}\n",
    "        if (0 in arr) and (arr.count(0)>0):\n",
    "            result = True\n",
    "        for x in arr:\n",
    "            if x not in D and x != 0:\n",
    "                D[X] = 2*x\n",
    "\n",
    "        for value in D.values():\n",
    "            result = D.get(value,None)\n",
    "            if result is not None:\n",
    "                result = True\n",
    "                break\n",
    "        return result\n"
   ]
  },
  {
   "cell_type": "code",
   "execution_count": null,
   "metadata": {},
   "outputs": [],
   "source": []
  }
 ]
}