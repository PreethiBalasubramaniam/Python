{
 "metadata": {
  "language_info": {
   "codemirror_mode": {
    "name": "ipython",
    "version": 3
   },
   "file_extension": ".py",
   "mimetype": "text/x-python",
   "name": "python",
   "nbconvert_exporter": "python",
   "pygments_lexer": "ipython3",
   "version": "3.8.5-final"
  },
  "orig_nbformat": 2,
  "kernelspec": {
   "name": "python38564bit61cbfe98942f42fe80e9ffbd8d8f9075",
   "display_name": "Python 3.8.5 64-bit"
  }
 },
 "nbformat": 4,
 "nbformat_minor": 2,
 "cells": [
  {
   "cell_type": "code",
   "execution_count": 161,
   "metadata": {
    "tags": []
   },
   "outputs": [
    {
     "output_type": "stream",
     "name": "stdout",
     "text": "The number of random walks that hit -50: 550\nThe average minimum crossing time: 671.829090909091\n"
    }
   ],
   "source": [
    "import numpy as np\n",
    "import random \n",
    "\n",
    "random.seed(1234)\n",
    "rr = np.random.normal(loc=0, scale=0.5, size=(5000, 1000))\n",
    "\n",
    "steps = np.where(rr > 0, 1, -1)\n",
    "\n",
    "walks = steps.cumsum(1)\n",
    "\n",
    "hits_neg_50 = (walks == -50).any(1)\n",
    "\n",
    "hits_neg_50\n",
    "\n",
    "hits_neg_50.sum()\n",
    "\n",
    "crossing_times = (walks[hits_neg_50] == -50).argmax(1)\n",
    "\n",
    "crossing_times\n",
    "\n",
    "crossing_times.mean()\n",
    "\n",
    "total_number = len(crossing_times)\n",
    "\n",
    "avg_crossing_time = crossing_times.mean()\n",
    "\n",
    "print(\"The number of random walks that hit -50:\", total_number)\n",
    "print(\"The average minimum crossing time:\", avg_crossing_time)\n",
    "\n",
    "\n",
    "\n"
   ]
  },
  {
   "cell_type": "code",
   "execution_count": null,
   "metadata": {},
   "outputs": [],
   "source": []
  }
 ]
}